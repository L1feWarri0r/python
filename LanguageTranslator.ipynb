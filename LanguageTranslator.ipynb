{
 "cells": [
  {
   "cell_type": "code",
   "execution_count": 1,
   "id": "9f374d6c",
   "metadata": {},
   "outputs": [
    {
     "name": "stdout",
     "output_type": "stream",
     "text": [
      "Listening...\n",
      "Recognized Speech: hey where are you going\n",
      "Listening...\n"
     ]
    },
    {
     "name": "stderr",
     "output_type": "stream",
     "text": [
      "Exception in Tkinter callback\n",
      "Traceback (most recent call last):\n",
      "  File \"D:\\python\\Lib\\tkinter\\__init__.py\", line 1948, in __call__\n",
      "    return self.func(*args)\n",
      "           ^^^^^^^^^^^^^^^^\n",
      "  File \"C:\\Users\\Piyush\\AppData\\Local\\Temp\\ipykernel_7224\\1781039374.py\", line 23, in recognize_speech\n",
      "    recognized_text = r.recognize_google(audio)\n",
      "                      ^^^^^^^^^^^^^^^^^^^^^^^^^\n",
      "  File \"D:\\python\\Lib\\site-packages\\speech_recognition\\__init__.py\", line 713, in recognize_google\n",
      "    response_text = response.read().decode(\"utf-8\")\n",
      "                    ^^^^^^^^^^^^^^^\n",
      "  File \"D:\\python\\Lib\\http\\client.py\", line 460, in read\n",
      "    return self._read_chunked(amt)\n",
      "           ^^^^^^^^^^^^^^^^^^^^^^^\n",
      "  File \"D:\\python\\Lib\\http\\client.py\", line 583, in _read_chunked\n",
      "    chunk_left = self._get_chunk_left()\n",
      "                 ^^^^^^^^^^^^^^^^^^^^^^\n",
      "  File \"D:\\python\\Lib\\http\\client.py\", line 566, in _get_chunk_left\n",
      "    chunk_left = self._read_next_chunk_size()\n",
      "                 ^^^^^^^^^^^^^^^^^^^^^^^^^^^^\n",
      "  File \"D:\\python\\Lib\\http\\client.py\", line 526, in _read_next_chunk_size\n",
      "    line = self.fp.readline(_MAXLINE + 1)\n",
      "           ^^^^^^^^^^^^^^^^^^^^^^^^^^^^^^\n",
      "  File \"D:\\python\\Lib\\socket.py\", line 706, in readinto\n",
      "    return self._sock.recv_into(b)\n",
      "           ^^^^^^^^^^^^^^^^^^^^^^^\n",
      "ConnectionAbortedError: [WinError 10053] An established connection was aborted by the software in your host machine\n"
     ]
    },
    {
     "name": "stdout",
     "output_type": "stream",
     "text": [
      "Listening...\n",
      "Recognized Speech: when will you pass your MCA examination\n"
     ]
    }
   ],
   "source": [
    "import tkinter as tk\n",
    "from tkinter import ttk\n",
    "from googletrans import Translator, LANGUAGES\n",
    "import speech_recognition as sr\n",
    "\n",
    "def translate_text():\n",
    "    source_text = source_entry.get()\n",
    "    dest_lang = language_combobox.get()\n",
    "    \n",
    "    translator = Translator()\n",
    "    translation = translator.translate(source_text, dest=dest_lang)\n",
    "    translated_text = translation.text\n",
    "\n",
    "    result_label.config(text=translated_text)\n",
    "\n",
    "def recognize_speech():\n",
    "    r = sr.Recognizer()\n",
    "    with sr.Microphone() as source:\n",
    "        print(\"Listening...\")\n",
    "        audio = r.listen(source)\n",
    "\n",
    "    try:\n",
    "        recognized_text = r.recognize_google(audio)\n",
    "        source_entry.delete(0, tk.END)\n",
    "        source_entry.insert(tk.END, recognized_text)\n",
    "        print(\"Recognized Speech:\", recognized_text)\n",
    "    except sr.UnknownValueError:\n",
    "        print(\"Speech Recognition could not understand audio.\")\n",
    "    except sr.RequestError as e:\n",
    "        print(\"Could not request results from Speech Recognition service:\", str(e))\n",
    "\n",
    "window = tk.Tk()\n",
    "window.title(\"Language Translator\")\n",
    "window.geometry(\"400x300\")\n",
    "\n",
    "# Source Text Entry\n",
    "source_label = tk.Label(window, text=\"Source Text:\")\n",
    "source_label.pack()\n",
    "\n",
    "source_entry = tk.Entry(window, width=30)\n",
    "source_entry.pack()\n",
    "\n",
    "# Recognize Speech Button\n",
    "speech_button = tk.Button(window, text=\"Recognize Speech\", command=recognize_speech)\n",
    "speech_button.pack()\n",
    "\n",
    "# Destination Language Combobox\n",
    "language_label = tk.Label(window, text=\"Destination Language:\")\n",
    "language_label.pack()\n",
    "\n",
    "# Get a list of language names from the LANGUAGES dictionary\n",
    "language_names = list(LANGUAGES.values())\n",
    "\n",
    "language_combobox = ttk.Combobox(window, values=language_names, state=\"readonly\")\n",
    "language_combobox.set(\"French\")\n",
    "language_combobox.pack()\n",
    "\n",
    "# Translate Button\n",
    "translate_button = tk.Button(window, text=\"Translate\", command=translate_text)\n",
    "translate_button.pack()\n",
    "\n",
    "# Result Label\n",
    "result_label = tk.Label(window, text=\"\")\n",
    "result_label.pack()\n",
    "\n",
    "window.mainloop()\n"
   ]
  },
  {
   "cell_type": "code",
   "execution_count": null,
   "id": "23dc260f",
   "metadata": {},
   "outputs": [],
   "source": []
  },
  {
   "cell_type": "code",
   "execution_count": null,
   "id": "0d0c60a9",
   "metadata": {},
   "outputs": [],
   "source": []
  },
  {
   "cell_type": "code",
   "execution_count": null,
   "id": "cd22b98c",
   "metadata": {},
   "outputs": [],
   "source": []
  },
  {
   "cell_type": "code",
   "execution_count": null,
   "id": "91807de3",
   "metadata": {},
   "outputs": [],
   "source": []
  },
  {
   "cell_type": "code",
   "execution_count": null,
   "id": "6f290863",
   "metadata": {},
   "outputs": [],
   "source": []
  },
  {
   "cell_type": "code",
   "execution_count": null,
   "id": "142b6883",
   "metadata": {},
   "outputs": [],
   "source": []
  },
  {
   "cell_type": "code",
   "execution_count": null,
   "id": "0e4342b5",
   "metadata": {},
   "outputs": [],
   "source": []
  },
  {
   "cell_type": "code",
   "execution_count": null,
   "id": "f2c84e67",
   "metadata": {},
   "outputs": [],
   "source": []
  }
 ],
 "metadata": {
  "kernelspec": {
   "display_name": "Python 3 (ipykernel)",
   "language": "python",
   "name": "python3"
  },
  "language_info": {
   "codemirror_mode": {
    "name": "ipython",
    "version": 3
   },
   "file_extension": ".py",
   "mimetype": "text/x-python",
   "name": "python",
   "nbconvert_exporter": "python",
   "pygments_lexer": "ipython3",
   "version": "3.11.4"
  }
 },
 "nbformat": 4,
 "nbformat_minor": 5
}
